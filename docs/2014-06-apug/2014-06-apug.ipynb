{
 "metadata": {
  "name": "",
  "signature": "sha256:0d2bad73107e13fa2f3e4ed1371a8c695080cd10f273423eba9655a52e0e63f1"
 },
 "nbformat": 3,
 "nbformat_minor": 0,
 "worksheets": [
  {
   "cells": [
    {
     "cell_type": "markdown",
     "metadata": {
      "slideshow": {
       "slide_type": "slide"
      }
     },
     "source": [
      "DistArray: Distributed Arrays for Python\n",
      "========================================\n",
      "\n",
      "Robert Grant, Enthought\n",
      "\n",
      "11 June 2014\n",
      "\n",
      "[github.com/enthought/distarray](https://github.com/enthought/distarray)"
     ]
    },
    {
     "cell_type": "markdown",
     "metadata": {
      "slideshow": {
       "slide_type": "subslide"
      }
     },
     "source": [
      "Start a cluster\n",
      "---------------\n",
      "These examples require an `IPython.parallel` cluster to be running.\n",
      "Outside the notebook, run\n",
      "```\n",
      "dacluster start -n4\n",
      "```"
     ]
    },
    {
     "cell_type": "code",
     "collapsed": false,
     "input": [
      "# some utility imports\n",
      "from pprint import pprint\n",
      "from matplotlib import pyplot as plt\n",
      "\n",
      "# main imports\n",
      "import numpy\n",
      "import distarray\n",
      "\n",
      "numpy.set_printoptions(precision=2)  # display formatting"
     ],
     "language": "python",
     "metadata": {
      "slideshow": {
       "slide_type": "slide"
      }
     },
     "outputs": [],
     "prompt_number": 1
    },
    {
     "cell_type": "markdown",
     "metadata": {
      "slideshow": {
       "slide_type": "slide"
      }
     },
     "source": [
      "NumPy Arrays\n",
      "------------"
     ]
    },
    {
     "cell_type": "code",
     "collapsed": false,
     "input": [
      "nparr = numpy.random.random((4, 5))\n",
      "nparr"
     ],
     "language": "python",
     "metadata": {
      "slideshow": {
       "slide_type": "subslide"
      }
     },
     "outputs": [
      {
       "metadata": {},
       "output_type": "pyout",
       "prompt_number": 2,
       "text": [
        "array([[ 0.67,  0.27,  0.91,  0.05,  0.78],\n",
        "       [ 0.38,  0.07,  0.15,  0.7 ,  0.64],\n",
        "       [ 0.82,  0.18,  0.58,  0.14,  0.97],\n",
        "       [ 0.76,  0.88,  0.5 ,  0.34,  0.89]])"
       ]
      }
     ],
     "prompt_number": 2
    },
    {
     "cell_type": "code",
     "collapsed": false,
     "input": [
      "# NumPy array attributes\n",
      "print \"type:\", type(nparr)\n",
      "print \"dtype:\", nparr.dtype\n",
      "print \"ndim:\", nparr.ndim\n",
      "print \"shape:\", nparr.shape\n",
      "print \"itemsize:\", nparr.itemsize\n",
      "print \"nbytes:\", nparr.nbytes"
     ],
     "language": "python",
     "metadata": {
      "slideshow": {
       "slide_type": "subslide"
      }
     },
     "outputs": [
      {
       "output_type": "stream",
       "stream": "stdout",
       "text": [
        "type: <type 'numpy.ndarray'>\n",
        "dtype: float64\n",
        "ndim: 2\n",
        "shape: (4, 5)\n",
        "itemsize: 8\n",
        "nbytes: 160\n"
       ]
      }
     ],
     "prompt_number": 3
    },
    {
     "cell_type": "markdown",
     "metadata": {
      "slideshow": {
       "slide_type": "slide"
      }
     },
     "source": [
      "DistArrays\n",
      "----------"
     ]
    },
    {
     "cell_type": "code",
     "collapsed": false,
     "input": [
      "from distarray.dist import Context\n",
      "context = Context()\n",
      "darr = context.fromarray(nparr)\n",
      "darr"
     ],
     "language": "python",
     "metadata": {
      "slideshow": {
       "slide_type": "subslide"
      }
     },
     "outputs": [
      {
       "metadata": {},
       "output_type": "pyout",
       "prompt_number": 4,
       "text": [
        "<DistArray(shape=(4, 5), targets=[0, 1, 2, 3])>"
       ]
      }
     ],
     "prompt_number": 4
    },
    {
     "cell_type": "code",
     "collapsed": false,
     "input": [
      "# parts of the array are stored on each engine\n",
      "for i, a in enumerate(darr.get_localarrays()):\n",
      "    print i, a"
     ],
     "language": "python",
     "metadata": {
      "slideshow": {
       "slide_type": "subslide"
      }
     },
     "outputs": [
      {
       "output_type": "stream",
       "stream": "stdout",
       "text": [
        "0 [[ 0.67  0.27  0.91  0.05  0.78]]\n",
        "1 [[ 0.38  0.07  0.15  0.7   0.64]]\n",
        "2 [[ 0.82  0.18  0.58  0.14  0.97]]\n",
        "3 [[ 0.76  0.88  0.5   0.34  0.89]]\n"
       ]
      }
     ],
     "prompt_number": 5
    },
    {
     "cell_type": "code",
     "collapsed": false,
     "input": [
      "# DistArray attributes\n",
      "print \"type:\", type(darr)\n",
      "print \"dtype:\", darr.dtype\n",
      "print \"ndim:\", darr.ndim\n",
      "print \"shape:\", darr.shape\n",
      "print \"itemsize:\", darr.itemsize\n",
      "print \"nbytes:\", darr.nbytes"
     ],
     "language": "python",
     "metadata": {
      "slideshow": {
       "slide_type": "subslide"
      }
     },
     "outputs": [
      {
       "output_type": "stream",
       "stream": "stdout",
       "text": [
        "type: <class 'distarray.dist.distarray.DistArray'>\n",
        "dtype: float64\n",
        "ndim: 2\n",
        "shape: (4, 5)\n",
        "itemsize: 8\n",
        "nbytes: 160\n"
       ]
      }
     ],
     "prompt_number": 6
    },
    {
     "cell_type": "code",
     "collapsed": false,
     "input": [
      "# with some extra...\n",
      "print \"targets:\", darr.targets\n",
      "print \"context:\", darr.context \n",
      "print \"distribution:\", darr.distribution"
     ],
     "language": "python",
     "metadata": {
      "slideshow": {
       "slide_type": "subslide"
      }
     },
     "outputs": [
      {
       "output_type": "stream",
       "stream": "stdout",
       "text": [
        "targets: [0, 1, 2, 3]\n",
        "context: <distarray.dist.context.Context object at 0x1065a33d0>\n",
        "distribution: <distarray.dist.maps.Distribution object at 0x106ad5c90>\n"
       ]
      }
     ],
     "prompt_number": 7
    },
    {
     "cell_type": "markdown",
     "metadata": {
      "slideshow": {
       "slide_type": "slide"
      }
     },
     "source": [
      "Universal Functions (ufuncs)\n",
      "----------------------------"
     ]
    },
    {
     "cell_type": "code",
     "collapsed": false,
     "input": [
      "## NumPy ##\n",
      "numpy.sin(nparr)"
     ],
     "language": "python",
     "metadata": {
      "slideshow": {
       "slide_type": "subslide"
      }
     },
     "outputs": [
      {
       "metadata": {},
       "output_type": "pyout",
       "prompt_number": 8,
       "text": [
        "array([[ 0.62,  0.27,  0.79,  0.05,  0.71],\n",
        "       [ 0.37,  0.07,  0.15,  0.65,  0.59],\n",
        "       [ 0.73,  0.18,  0.55,  0.14,  0.82],\n",
        "       [ 0.69,  0.77,  0.48,  0.34,  0.77]])"
       ]
      }
     ],
     "prompt_number": 8
    },
    {
     "cell_type": "code",
     "collapsed": false,
     "input": [
      "## DistArray ##\n",
      "import distarray.dist as da\n",
      "da.sin(darr)"
     ],
     "language": "python",
     "metadata": {
      "slideshow": {
       "slide_type": "subslide"
      }
     },
     "outputs": [
      {
       "metadata": {},
       "output_type": "pyout",
       "prompt_number": 9,
       "text": [
        "<DistArray(shape=(4, 5), targets=[0, 1, 2, 3])>"
       ]
      }
     ],
     "prompt_number": 9
    },
    {
     "cell_type": "code",
     "collapsed": false,
     "input": [
      "da.sin(darr).toarray()"
     ],
     "language": "python",
     "metadata": {
      "slideshow": {
       "slide_type": "subslide"
      }
     },
     "outputs": [
      {
       "metadata": {},
       "output_type": "pyout",
       "prompt_number": 10,
       "text": [
        "array([[ 0.62,  0.27,  0.79,  0.05,  0.71],\n",
        "       [ 0.37,  0.07,  0.15,  0.65,  0.59],\n",
        "       [ 0.73,  0.18,  0.55,  0.14,  0.82],\n",
        "       [ 0.69,  0.77,  0.48,  0.34,  0.77]])"
       ]
      }
     ],
     "prompt_number": 10
    },
    {
     "cell_type": "code",
     "collapsed": false,
     "input": [
      "## NumPy ##\n",
      "nparr + nparr"
     ],
     "language": "python",
     "metadata": {
      "slideshow": {
       "slide_type": "subslide"
      }
     },
     "outputs": [
      {
       "metadata": {},
       "output_type": "pyout",
       "prompt_number": 11,
       "text": [
        "array([[ 1.33,  0.55,  1.82,  0.1 ,  1.57],\n",
        "       [ 0.77,  0.14,  0.3 ,  1.41,  1.27],\n",
        "       [ 1.64,  0.36,  1.16,  0.28,  1.94],\n",
        "       [ 1.52,  1.76,  1.01,  0.69,  1.77]])"
       ]
      }
     ],
     "prompt_number": 11
    },
    {
     "cell_type": "code",
     "collapsed": false,
     "input": [
      "## DistArray ##\n",
      "darr + darr"
     ],
     "language": "python",
     "metadata": {
      "slideshow": {
       "slide_type": "subslide"
      }
     },
     "outputs": [
      {
       "metadata": {},
       "output_type": "pyout",
       "prompt_number": 12,
       "text": [
        "<DistArray(shape=(4, 5), targets=[0, 1, 2, 3])>"
       ]
      }
     ],
     "prompt_number": 12
    },
    {
     "cell_type": "code",
     "collapsed": false,
     "input": [
      "(darr + darr).toarray()"
     ],
     "language": "python",
     "metadata": {
      "slideshow": {
       "slide_type": "subslide"
      }
     },
     "outputs": [
      {
       "metadata": {},
       "output_type": "pyout",
       "prompt_number": 13,
       "text": [
        "array([[ 1.33,  0.55,  1.82,  0.1 ,  1.57],\n",
        "       [ 0.77,  0.14,  0.3 ,  1.41,  1.27],\n",
        "       [ 1.64,  0.36,  1.16,  0.28,  1.94],\n",
        "       [ 1.52,  1.76,  1.01,  0.69,  1.77]])"
       ]
      }
     ],
     "prompt_number": 13
    },
    {
     "cell_type": "markdown",
     "metadata": {
      "slideshow": {
       "slide_type": "slide"
      }
     },
     "source": [
      "Distributions\n",
      "-------------"
     ]
    },
    {
     "cell_type": "code",
     "collapsed": false,
     "input": [
      "# Distributions control which processes own which (global) indices\n",
      "distribution = darr.distribution"
     ],
     "language": "python",
     "metadata": {
      "slideshow": {
       "slide_type": "subslide"
      }
     },
     "outputs": [],
     "prompt_number": 14
    },
    {
     "cell_type": "code",
     "collapsed": false,
     "input": [
      "# this is a 2D distribution\n",
      "pprint(distribution.maps)"
     ],
     "language": "python",
     "metadata": {
      "slideshow": {
       "slide_type": "subslide"
      }
     },
     "outputs": [
      {
       "output_type": "stream",
       "stream": "stdout",
       "text": [
        "[<distarray.dist.maps.BlockMap object at 0x106ad97d0>,\n",
        " <distarray.dist.maps.NoDistMap object at 0x106ad9910>]\n"
       ]
      }
     ],
     "prompt_number": 15
    },
    {
     "cell_type": "code",
     "collapsed": false,
     "input": [
      "# setup\n",
      "from distarray.plotting import plot_array_distribution\n",
      "process_coords = [(0, 0), (1, 0), (2, 0), (3, 0)]"
     ],
     "language": "python",
     "metadata": {
      "slideshow": {
       "slide_type": "subslide"
      }
     },
     "outputs": [],
     "prompt_number": 16
    },
    {
     "cell_type": "code",
     "collapsed": false,
     "input": [
      "plot_array_distribution(darr, process_coords, cell_label=False, legend=True)"
     ],
     "language": "python",
     "metadata": {
      "slideshow": {
       "slide_type": "subslide"
      }
     },
     "outputs": [
      {
       "metadata": {},
       "output_type": "pyout",
       "prompt_number": 17,
       "text": [
        "<DistArray(shape=(4, 5), targets=[0, 1, 2, 3])>"
       ]
      },
      {
       "metadata": {},
       "output_type": "display_data",
       "png": "[encoded data removed]",
       "text": [
        "<matplotlib.figure.Figure at 0x106fc9dd0>"
       ]
      }
     ],
     "prompt_number": 17
    },
    {
     "cell_type": "code",
     "collapsed": false,
     "input": [
      "distribution.maps[0].bounds"
     ],
     "language": "python",
     "metadata": {
      "slideshow": {
       "slide_type": "subslide"
      }
     },
     "outputs": [
      {
       "metadata": {},
       "output_type": "pyout",
       "prompt_number": 18,
       "text": [
        "[(0, 1), (1, 2), (2, 3), (3, 4)]"
       ]
      }
     ],
     "prompt_number": 18
    },
    {
     "cell_type": "code",
     "collapsed": false,
     "input": [
      "# the above is the default, you can make more complex distributions\n",
      "from distarray.dist import Distribution\n",
      "distribution = Distribution.from_shape(context, (64, 64), dist=('b', 'c'))\n",
      "a = context.zeros(distribution, dtype='int32')\n",
      "plot_array_distribution(a, process_coords, cell_label=False, legend=True)"
     ],
     "language": "python",
     "metadata": {
      "slideshow": {
       "slide_type": "subslide"
      }
     },
     "outputs": [
      {
       "metadata": {},
       "output_type": "pyout",
       "prompt_number": 19,
       "text": [
        "<DistArray(shape=(64, 64), targets=[0, 1, 2, 3])>"
       ]
      },
      {
       "metadata": {},
       "output_type": "display_data",
       "png": "[encoded data removed]",
       "text": [
        "<matplotlib.figure.Figure at 0x106ffad50>"
       ]
      }
     ],
     "prompt_number": 19
    },
    {
     "cell_type": "markdown",
     "metadata": {
      "slideshow": {
       "slide_type": "slide"
      }
     },
     "source": [
      "Contexts\n",
      "--------"
     ]
    },
    {
     "cell_type": "code",
     "collapsed": false,
     "input": [
      "# Context objects manage the setup and communication of the worker processes\n",
      "# for DistArray objects. \n",
      "print \"targets:\", context.targets\n",
      "print \"comm:\", context.comm"
     ],
     "language": "python",
     "metadata": {
      "slideshow": {
       "slide_type": "subslide"
      }
     },
     "outputs": [
      {
       "output_type": "stream",
       "stream": "stdout",
       "text": [
        "targets: [0, 1, 2, 3]\n",
        "comm: __distarray__e60fe9953c015b300\n"
       ]
      }
     ],
     "prompt_number": 20
    },
    {
     "cell_type": "markdown",
     "metadata": {
      "slideshow": {
       "slide_type": "slide"
      }
     },
     "source": [
      "IO Support (v0.2)\n",
      "-----------------"
     ]
    },
    {
     "cell_type": "code",
     "collapsed": false,
     "input": [
      "# load .npy files in parallel\n",
      "numpy.save(\"/tmp/outfile.npy\", nparr)\n",
      "distribution = Distribution.from_shape(context, nparr.shape) \n",
      "new_darr = context.load_npy(\"/tmp/outfile.npy\", distribution)\n",
      "new_darr"
     ],
     "language": "python",
     "metadata": {
      "slideshow": {
       "slide_type": "subslide"
      }
     },
     "outputs": [
      {
       "metadata": {},
       "output_type": "pyout",
       "prompt_number": 21,
       "text": [
        "<DistArray(shape=(4, 5), targets=[0, 1, 2, 3])>"
       ]
      }
     ],
     "prompt_number": 21
    },
    {
     "cell_type": "code",
     "collapsed": false,
     "input": [
      "# save DistArrays to .hdf5 files in parallel\n",
      "context.save_hdf5(\"/tmp/outfile.hdf5\", darr, mode='w')"
     ],
     "language": "python",
     "metadata": {
      "slideshow": {
       "slide_type": "subslide"
      }
     },
     "outputs": [],
     "prompt_number": 22
    },
    {
     "cell_type": "code",
     "collapsed": true,
     "input": [
      "# load DistArrays from .hdf5 files in parallel (using h5py)\n",
      "context.load_hdf5(\"/tmp/outfile.hdf5\", distribution)"
     ],
     "language": "python",
     "metadata": {
      "slideshow": {
       "slide_type": "subslide"
      }
     },
     "outputs": [
      {
       "metadata": {},
       "output_type": "pyout",
       "prompt_number": 23,
       "text": [
        "<DistArray(shape=(4, 5), targets=[0, 1, 2, 3])>"
       ]
      }
     ],
     "prompt_number": 23
    },
    {
     "cell_type": "code",
     "collapsed": false,
     "input": [
      "# save to .dnpy (a built-in flat-file format based on .npy)\n",
      "context.save_dnpy(\"/tmp/outfile\", darr)"
     ],
     "language": "python",
     "metadata": {
      "slideshow": {
       "slide_type": "subslide"
      }
     },
     "outputs": [],
     "prompt_number": 24
    },
    {
     "cell_type": "code",
     "collapsed": false,
     "input": [
      "# load from .dnpy\n",
      "context.load_dnpy(\"/tmp/outfile\")"
     ],
     "language": "python",
     "metadata": {
      "slideshow": {
       "slide_type": "subslide"
      }
     },
     "outputs": [
      {
       "metadata": {},
       "output_type": "pyout",
       "prompt_number": 25,
       "text": [
        "<DistArray(shape=(4, 5), targets=[0, 1, 2, 3])>"
       ]
      }
     ],
     "prompt_number": 25
    },
    {
     "cell_type": "markdown",
     "metadata": {
      "slideshow": {
       "slide_type": "slide"
      }
     },
     "source": [
      "Reductions (v0.3)\n",
      "-----------------"
     ]
    },
    {
     "cell_type": "code",
     "collapsed": false,
     "input": [
      "## NumPy ##\n",
      "print \"sum:\", nparr.sum()\n",
      "print \"sum over an axis:\", nparr.sum(axis=1)"
     ],
     "language": "python",
     "metadata": {
      "slideshow": {
       "slide_type": "subslide"
      }
     },
     "outputs": [
      {
       "output_type": "stream",
       "stream": "stdout",
       "text": [
        "sum: 10.6867002882\n",
        "sum over an axis: [ 2.68  1.94  2.69  3.37]\n"
       ]
      }
     ],
     "prompt_number": 26
    },
    {
     "cell_type": "code",
     "collapsed": false,
     "input": [
      "## DistArray ##\n",
      "print \"sum:\", darr.sum(), darr.sum().toarray()\n",
      "print \"sum over an axis:\", darr.sum(axis=1), darr.sum(axis=1).toarray()"
     ],
     "language": "python",
     "metadata": {
      "slideshow": {
       "slide_type": "subslide"
      }
     },
     "outputs": [
      {
       "output_type": "stream",
       "stream": "stdout",
       "text": [
        "sum: <DistArray(shape=[], targets=[0])> "
       ]
      },
      {
       "output_type": "stream",
       "stream": "stdout",
       "text": [
        "10.6867002882\n",
        "sum over an axis: <DistArray(shape=[4], targets=[0, 1, 2, 3])> "
       ]
      },
      {
       "output_type": "stream",
       "stream": "stdout",
       "text": [
        "[ 2.68  1.94  2.69  3.37]\n"
       ]
      }
     ],
     "prompt_number": 27
    },
    {
     "cell_type": "markdown",
     "metadata": {
      "slideshow": {
       "slide_type": "slide"
      }
     },
     "source": [
      "Context.apply (v0.3)\n",
      "--------------------\n",
      "Global view, local control"
     ]
    },
    {
     "cell_type": "code",
     "collapsed": false,
     "input": [
      "def get_local_random():\n",
      "    import numpy\n",
      "    return numpy.random.randint(10)\n",
      "\n",
      "context.apply(get_local_random)"
     ],
     "language": "python",
     "metadata": {
      "slideshow": {
       "slide_type": "subslide"
      }
     },
     "outputs": [
      {
       "metadata": {},
       "output_type": "pyout",
       "prompt_number": 28,
       "text": [
        "[2, 4, 6, 5]"
       ]
      }
     ],
     "prompt_number": 28
    },
    {
     "cell_type": "code",
     "collapsed": false,
     "input": [
      "def get_local_var(darr):\n",
      "    return darr.ndarray.var()\n",
      "\n",
      "context.apply(get_local_var, args=(darr.key,))"
     ],
     "language": "python",
     "metadata": {
      "slideshow": {
       "slide_type": "subslide"
      }
     },
     "outputs": [
      {
       "metadata": {},
       "output_type": "pyout",
       "prompt_number": 29,
       "text": [
        "[0.1043967698165971,\n",
        " 0.064006352164566974,\n",
        " 0.11124749755337127,\n",
        " 0.046561405334938577]"
       ]
      }
     ],
     "prompt_number": 29
    },
    {
     "cell_type": "markdown",
     "metadata": {
      "slideshow": {
       "slide_type": "slide"
      }
     },
     "source": [
      "Distributed Slicing (v0.4)\n",
      "--------------------------\n",
      "(coming soon)"
     ]
    },
    {
     "cell_type": "code",
     "collapsed": false,
     "input": [
      "# as a reminder\n",
      "darr.toarray()"
     ],
     "language": "python",
     "metadata": {
      "slideshow": {
       "slide_type": "subslide"
      }
     },
     "outputs": [
      {
       "metadata": {},
       "output_type": "pyout",
       "prompt_number": 30,
       "text": [
        "array([[ 0.67,  0.27,  0.91,  0.05,  0.78],\n",
        "       [ 0.38,  0.07,  0.15,  0.7 ,  0.64],\n",
        "       [ 0.82,  0.18,  0.58,  0.14,  0.97],\n",
        "       [ 0.76,  0.88,  0.5 ,  0.34,  0.89]])"
       ]
      }
     ],
     "prompt_number": 30
    },
    {
     "cell_type": "code",
     "collapsed": false,
     "input": [
      "darr.get_localshapes()"
     ],
     "language": "python",
     "metadata": {
      "slideshow": {
       "slide_type": "subslide"
      }
     },
     "outputs": [
      {
       "metadata": {},
       "output_type": "pyout",
       "prompt_number": 31,
       "text": [
        "[(1, 5), (1, 5), (1, 5), (1, 5)]"
       ]
      }
     ],
     "prompt_number": 31
    },
    {
     "cell_type": "code",
     "collapsed": false,
     "input": [
      "# take a column slice\n",
      "darr_view = darr[:, 3]\n",
      "print darr_view\n",
      "print darr_view.toarray()"
     ],
     "language": "python",
     "metadata": {
      "slideshow": {
       "slide_type": "subslide"
      }
     },
     "outputs": [
      {
       "output_type": "stream",
       "stream": "stdout",
       "text": [
        "<DistArray(shape=(4,), targets=[0, 1, 2, 3])>\n",
        "[ 0.05  0.7   0.14  0.34]\n"
       ]
      }
     ],
     "prompt_number": 32
    },
    {
     "cell_type": "code",
     "collapsed": false,
     "input": [
      "# changes in the view change the original\n",
      "darr_view[3] = -0.99\n",
      "print \"view:\"\n",
      "print darr_view.toarray()\n",
      "\n",
      "print \"original:\"\n",
      "print darr.toarray()"
     ],
     "language": "python",
     "metadata": {
      "slideshow": {
       "slide_type": "subslide"
      }
     },
     "outputs": [
      {
       "output_type": "stream",
       "stream": "stdout",
       "text": [
        "view:\n",
        "[ 0.05  0.7   0.14 -0.99]\n",
        "original:\n",
        "[[ 0.67  0.27  0.91  0.05  0.78]\n",
        " [ 0.38  0.07  0.15  0.7   0.64]\n",
        " [ 0.82  0.18  0.58  0.14  0.97]\n",
        " [ 0.76  0.88  0.5  -0.99  0.89]]\n"
       ]
      }
     ],
     "prompt_number": 33
    },
    {
     "cell_type": "code",
     "collapsed": false,
     "input": [
      "# a more complex slice\n",
      "print darr[:, 2::2]\n",
      "print darr[:-1, 2::2].toarray()"
     ],
     "language": "python",
     "metadata": {
      "slideshow": {
       "slide_type": "subslide"
      }
     },
     "outputs": [
      {
       "output_type": "stream",
       "stream": "stdout",
       "text": [
        "<DistArray(shape=(4, 2), targets=[0, 1, 2, 3])>\n",
        "[[ 0.91  0.78]\n",
        " [ 0.15  0.64]\n",
        " [ 0.58  0.97]]"
       ]
      },
      {
       "output_type": "stream",
       "stream": "stdout",
       "text": [
        "\n"
       ]
      }
     ],
     "prompt_number": 34
    },
    {
     "cell_type": "markdown",
     "metadata": {
      "slideshow": {
       "slide_type": "slide"
      }
     },
     "source": [
      "Distributed Array Protocol (v0.2)\n",
      "---------------------------------\n",
      "(exporting and importing distributed arrays)"
     ]
    },
    {
     "cell_type": "code",
     "collapsed": false,
     "input": [
      "def return_protocol_structure(darr):\n",
      "    return darr.__distarray__()\n",
      "\n",
      "context.apply(return_protocol_structure, args=(darr.key,))"
     ],
     "language": "python",
     "metadata": {
      "slideshow": {
       "slide_type": "subslide"
      }
     },
     "outputs": [
      {
       "metadata": {},
       "output_type": "pyout",
       "prompt_number": 35,
       "text": [
        "[{'__version__': '0.10.0',\n",
        "  'buffer': array([[ 0.67,  0.27,  0.91,  0.05,  0.78]]),\n",
        "  'dim_data': ({'dist_type': 'b',\n",
        "    'proc_grid_rank': 0,\n",
        "    'proc_grid_size': 4,\n",
        "    'size': 4,\n",
        "    'start': 0,\n",
        "    'stop': 1},\n",
        "   {'dist_type': 'b',\n",
        "    'proc_grid_rank': 0,\n",
        "    'proc_grid_size': 1,\n",
        "    'size': 5,\n",
        "    'start': 0,\n",
        "    'stop': 5})},\n",
        " {'__version__': '0.10.0',\n",
        "  'buffer': array([[ 0.38,  0.07,  0.15,  0.7 ,  0.64]]),\n",
        "  'dim_data': ({'dist_type': 'b',\n",
        "    'proc_grid_rank': 1,\n",
        "    'proc_grid_size': 4,\n",
        "    'size': 4,\n",
        "    'start': 1,\n",
        "    'stop': 2},\n",
        "   {'dist_type': 'b',\n",
        "    'proc_grid_rank': 0,\n",
        "    'proc_grid_size': 1,\n",
        "    'size': 5,\n",
        "    'start': 0,\n",
        "    'stop': 5})},\n",
        " {'__version__': '0.10.0',\n",
        "  'buffer': array([[ 0.82,  0.18,  0.58,  0.14,  0.97]]),\n",
        "  'dim_data': ({'dist_type': 'b',\n",
        "    'proc_grid_rank': 2,\n",
        "    'proc_grid_size': 4,\n",
        "    'size': 4,\n",
        "    'start': 2,\n",
        "    'stop': 3},\n",
        "   {'dist_type': 'b',\n",
        "    'proc_grid_rank': 0,\n",
        "    'proc_grid_size': 1,\n",
        "    'size': 5,\n",
        "    'start': 0,\n",
        "    'stop': 5})},\n",
        " {'__version__': '0.10.0',\n",
        "  'buffer': array([[ 0.76,  0.88,  0.5 , -0.99,  0.89]]),\n",
        "  'dim_data': ({'dist_type': 'b',\n",
        "    'proc_grid_rank': 3,\n",
        "    'proc_grid_size': 4,\n",
        "    'size': 4,\n",
        "    'start': 3,\n",
        "    'stop': 4},\n",
        "   {'dist_type': 'b',\n",
        "    'proc_grid_rank': 0,\n",
        "    'proc_grid_size': 1,\n",
        "    'size': 5,\n",
        "    'start': 0,\n",
        "    'stop': 5})}]"
       ]
      }
     ],
     "prompt_number": 35
    },
    {
     "cell_type": "markdown",
     "metadata": {},
     "source": [
      "Acknowledgement and Disclaimer\n",
      "------------------------------\n",
      "\n",
      "This material is based upon work supported by the Department of Energy under Award Number DE-SC0007699.\n",
      "\n",
      "This report was prepared as an account of work sponsored by an agency of the United States Government. Neither the United States Government nor any agency thereof, nor any of their employees, makes any warranty, express or implied, or assumes any legal liability or responsibility for the accuracy, completeness, or usefulness of any information, apparatus, product, or process disclosed, or represents that its use would not infringe privately owned rights. Reference herein to any specific commercial product, process, or service by trade name, trademark, manufacturer, or otherwise does not necessarily constitute or imply its endorsement, recommendation, or favoring by the United States Government or any agency thereof. The views and opinions of authors expressed herein do not necessarily state or reflect those of the United States Government or any agency thereof. "
     ]
    },
    {
     "cell_type": "code",
     "collapsed": false,
     "input": [],
     "language": "python",
     "metadata": {},
     "outputs": []
    }
   ],
   "metadata": {}
  }
 ]
}